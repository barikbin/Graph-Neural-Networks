{
  "nbformat": 4,
  "nbformat_minor": 0,
  "metadata": {
    "colab": {
      "provenance": [],
      "authorship_tag": "ABX9TyMuUNkS3sJTsSTx+pVpoZpd",
      "include_colab_link": true
    },
    "kernelspec": {
      "name": "python3",
      "display_name": "Python 3"
    },
    "language_info": {
      "name": "python"
    }
  },
  "cells": [
    {
      "cell_type": "markdown",
      "metadata": {
        "id": "view-in-github",
        "colab_type": "text"
      },
      "source": [
        "<a href=\"https://colab.research.google.com/github/barikbin/Graph-Neural-Networks/blob/main/Plot_different_graph_types_Graph_NN_01.ipynb\" target=\"_parent\"><img src=\"https://colab.research.google.com/assets/colab-badge.svg\" alt=\"Open In Colab\"/></a>"
      ]
    },
    {
      "cell_type": "markdown",
      "source": [
        "# Plot Graphs"
      ],
      "metadata": {
        "id": "XOLOh3DGa9lT"
      }
    },
    {
      "cell_type": "code",
      "execution_count": 3,
      "metadata": {
        "id": "6TrqUiHfZkeO"
      },
      "outputs": [],
      "source": [
        "#   with this function we draw the graph, pay attension to the arguments taken!\n",
        "\n",
        "def draw_graph(G, pos_nodes, node_names={}, node_size=50, plot_weight=False):\n",
        "    nx.draw(G, pos_nodes, with_labels = False, node_size = node_size, edge_color = 'gray', arrowsize = 30)\n",
        "\n",
        "# This part doesnt make too much sense!\n",
        "    pos_attrs = {}\n",
        "    for node, coords in pos_nodes.items():\n",
        "        pos_attrs[node] = (coords[0], coords[1] + 0.08)\n",
        "\n",
        "    # with this syntax we draw labels on the nodes!    \n",
        "    nx.draw_networkx_labels(G, pos_attrs, font_family='serif', font_size=20) \n",
        "\n",
        "\n",
        "# Here we have a major condition for the plot-weight\n",
        "# Also we change the labels based on the weight!\n",
        "# Pay attention to the coordinated as well!\n",
        "\n",
        "    if plot_weight:\n",
        "       pos_attrs = {}\n",
        "       for node, coords in pos_nodes.items():\n",
        "           pos_attrs[node] = (coords[0], coords[1] + 0.08)\n",
        "\n",
        "# Also we change the labels based on the weight!\n",
        "       nx.draw_networkx_labels(G, pos_attrs, font_family='serif', font_size=20)  \n",
        "\n",
        "       edege_labels = dict([((a,b,), d[\"weight\"]) for a,b,d in G.edges(data=True)])         \n",
        "       nx.draw_networkx_labels(G, pos_nodes, edege_labels = edge_labels)\n",
        "\n",
        "    plt.axis('off')\n",
        "    axis = plt.gca()\n",
        "\n",
        "    # Here the syntax is mainly related to the axis limit!\n",
        "    axis.set_xlim([1.2 * x for x in axis.get_xlim()])\n",
        "    axis.set_ylim({1.2 * y for y in axis.get_ylim()})\n",
        "    #nx.draw(G)\n"
      ]
    },
    {
      "cell_type": "markdown",
      "source": [
        "# Creating Undirected Graphs"
      ],
      "metadata": {
        "id": "vsl2vbFQosIl"
      }
    },
    {
      "cell_type": "code",
      "source": [
        "\n",
        "import numpy as  np\n",
        "import pandas as pd \n",
        "import networkx as nx\n",
        "import matplotlib.pyplot as plt\n",
        "\n",
        "G = nx.Graph()\n",
        "V = {'Dublin', 'Paris', 'Milan', 'Rome'}\n",
        "# This means the edeges!\n",
        "E = [('Milan', 'Dublin'),('Milan', 'Paris'), ('Paris', 'Dublin'), ('Paris', 'Rome')]\n",
        "G.add_nodes_from(V)\n",
        "G.add_edges_from(E)\n",
        "draw_graph(G, pos_nodes= nx.shell_layout(G), node_size=700)\n",
        "\n",
        "\n"
      ],
      "metadata": {
        "colab": {
          "base_uri": "https://localhost:8080/",
          "height": 319
        },
        "id": "IDcRN1y4o1hV",
        "outputId": "d62b0478-87e1-41a7-84fe-92a3675b6682"
      },
      "execution_count": 15,
      "outputs": [
        {
          "output_type": "display_data",
          "data": {
            "text/plain": [
              "<Figure size 432x288 with 1 Axes>"
            ],
            "image/png": "[encoded data removed]"
          },
          "metadata": {}
        }
      ]
    },
    {
      "cell_type": "code",
      "source": [
        "\n",
        "print(f\"v ={G.nodes}\")\n",
        "print(f\"E ={G.edges}\")\n"
      ],
      "metadata": {
        "colab": {
          "base_uri": "https://localhost:8080/"
        },
        "id": "pV1uWn7D9uF3",
        "outputId": "facda092-439a-4489-e783-f193e64d2380"
      },
      "execution_count": 16,
      "outputs": [
        {
          "output_type": "stream",
          "name": "stdout",
          "text": [
            "v =['Paris', 'Dublin', 'Milan', 'Rome']\n",
            "E =[('Paris', 'Milan'), ('Paris', 'Dublin'), ('Paris', 'Rome'), ('Dublin', 'Milan')]\n"
          ]
        }
      ]
    },
    {
      "cell_type": "code",
      "source": [
        "\n",
        "{G.degree(v): v for v in G.nodes}\n"
      ],
      "metadata": {
        "colab": {
          "base_uri": "https://localhost:8080/"
        },
        "id": "amo9ypJR95Py",
        "outputId": "a30cdd7b-798a-4c92-94f7-ea0ab082c79d"
      },
      "execution_count": 17,
      "outputs": [
        {
          "output_type": "execute_result",
          "data": {
            "text/plain": [
              "{3: 'Paris', 2: 'Milan', 1: 'Rome'}"
            ]
          },
          "metadata": {},
          "execution_count": 17
        }
      ]
    },
    {
      "cell_type": "code",
      "source": [
        "\n",
        "print(f\"Graph Oorder: {G.number_of_nodes()}\")\n",
        "print(f\"Graph Size: {G.number_of_edges()}\")\n",
        "print(f\"Degree for nodes: { {v: G.degree(v) for v in G.nodes} }\")\n",
        "print(f\"Nieghbors for nodes: { { v: list(G.neighbors(v)) for v in G.nodes} }\")\n",
        "\n",
        "\n"
      ],
      "metadata": {
        "colab": {
          "base_uri": "https://localhost:8080/"
        },
        "id": "E96Lyuex-AJ7",
        "outputId": "10e85c20-dab0-4ee0-da61-28b91cc6c4f8"
      },
      "execution_count": 18,
      "outputs": [
        {
          "output_type": "stream",
          "name": "stdout",
          "text": [
            "Graph Oorder: 4\n",
            "Graph Size: 4\n",
            "Degree for nodes: {'Paris': 3, 'Dublin': 2, 'Milan': 2, 'Rome': 1}\n",
            "Nieghbors for nodes: {'Paris': ['Milan', 'Dublin', 'Rome'], 'Dublin': ['Milan', 'Paris'], 'Milan': ['Dublin', 'Paris'], 'Rome': ['Paris']}\n"
          ]
        }
      ]
    },
    {
      "cell_type": "code",
      "source": [
        "\n",
        "ego_graph_milan = nx.ego_graph(G, \"Milan\")\n",
        "print(f\"Nodes: {ego_graph_milan.nodes}\")\n",
        "print(f\"Edges: {ego_graph_milan.edges}\")\n"
      ],
      "metadata": {
        "colab": {
          "base_uri": "https://localhost:8080/"
        },
        "id": "KDf0ZiGC-845",
        "outputId": "6f4181b9-b9b8-4493-f083-12974b8c0487"
      },
      "execution_count": 19,
      "outputs": [
        {
          "output_type": "stream",
          "name": "stdout",
          "text": [
            "Nodes: ['Paris', 'Dublin', 'Milan']\n",
            "Edges: [('Paris', 'Milan'), ('Paris', 'Dublin'), ('Dublin', 'Milan')]\n"
          ]
        }
      ]
    },
    {
      "cell_type": "code",
      "source": [
        "# Here we added new nodes and edges!\n",
        "\n",
        "new_nodes = {'London', 'Madrid'}\n",
        "new_edges = [('London', 'Rome'), ('Madrid', 'Paris')]\n",
        "G.add_nodes_from(new_nodes)\n",
        "G.add_edges_from(new_edges)\n",
        "print(f\"V = {G.nodes}\")\n",
        "print(f\"E = {G.edges}\")\n"
      ],
      "metadata": {
        "colab": {
          "base_uri": "https://localhost:8080/"
        },
        "id": "hVHu3LxT_u8s",
        "outputId": "ade33336-4f22-4289-d7da-b57c2c16c9f6"
      },
      "execution_count": 20,
      "outputs": [
        {
          "output_type": "stream",
          "name": "stdout",
          "text": [
            "V = ['Paris', 'Dublin', 'Milan', 'Rome', 'London', 'Madrid']\n",
            "E = [('Paris', 'Milan'), ('Paris', 'Dublin'), ('Paris', 'Rome'), ('Paris', 'Madrid'), ('Dublin', 'Milan'), ('Rome', 'London')]\n"
          ]
        }
      ]
    },
    {
      "cell_type": "code",
      "source": [
        "# Now we want to remove nodes and edges\n",
        "\n",
        "node_remove = {'London', 'Madrid'}\n",
        "G.remove_nodes_from(node_remove)\n",
        "print(f\"V = {G.nodes}\")\n",
        "print(f\" E = {G.edges} \")\n"
      ],
      "metadata": {
        "colab": {
          "base_uri": "https://localhost:8080/"
        },
        "id": "mT8x_dOzAUfe",
        "outputId": "5d753c9a-265f-47e1-c337-d0ae042b3b70"
      },
      "execution_count": 21,
      "outputs": [
        {
          "output_type": "stream",
          "name": "stdout",
          "text": [
            "V = ['Paris', 'Dublin', 'Milan', 'Rome']\n",
            " E = [('Paris', 'Milan'), ('Paris', 'Dublin'), ('Paris', 'Rome'), ('Dublin', 'Milan')] \n"
          ]
        }
      ]
    },
    {
      "cell_type": "code",
      "source": [
        "# Now we want to remove edges\n",
        "\n",
        "node_edges = [('Milan', 'Dublin'), ('Milan', 'Paris')]\n",
        "G.remove_edges_from(node_edges)\n",
        "print(f\"V = {G.nodes}\")\n",
        "print(f\"E = {G.edges}\")\n"
      ],
      "metadata": {
        "colab": {
          "base_uri": "https://localhost:8080/"
        },
        "id": "lj7q5c0WAt0b",
        "outputId": "afa19648-3ee8-44a9-89cf-d92b47eb169e"
      },
      "execution_count": 22,
      "outputs": [
        {
          "output_type": "stream",
          "name": "stdout",
          "text": [
            "V = ['Paris', 'Dublin', 'Milan', 'Rome']\n",
            "E = [('Paris', 'Dublin'), ('Paris', 'Rome')]\n"
          ]
        }
      ]
    },
    {
      "cell_type": "code",
      "source": [
        "# Here we want to have the edge list!\n",
        "\n",
        "print(nx.to_edgelist(G))\n"
      ],
      "metadata": {
        "colab": {
          "base_uri": "https://localhost:8080/"
        },
        "id": "jv-oj9FnBETX",
        "outputId": "acb812e6-6166-445c-c35c-992a054d8df0"
      },
      "execution_count": 23,
      "outputs": [
        {
          "output_type": "stream",
          "name": "stdout",
          "text": [
            "[('Paris', 'Dublin', {}), ('Paris', 'Rome', {})]\n"
          ]
        }
      ]
    },
    {
      "cell_type": "code",
      "source": [
        "# Here we want to find the adjacency\n",
        "\n",
        "print(nx.to_pandas_adjacency)\n"
      ],
      "metadata": {
        "colab": {
          "base_uri": "https://localhost:8080/"
        },
        "id": "rWGAngosBPc0",
        "outputId": "7e36d050-d845-49d8-bc17-116cf9614ebf"
      },
      "execution_count": 25,
      "outputs": [
        {
          "output_type": "stream",
          "name": "stdout",
          "text": [
            "<function to_pandas_adjacency at 0x7feb3254a160>\n"
          ]
        }
      ]
    },
    {
      "cell_type": "markdown",
      "source": [
        "# Creating a directed Graph"
      ],
      "metadata": {
        "id": "kkv7_FLlBdhH"
      }
    },
    {
      "cell_type": "code",
      "source": [
        "\n",
        "import networkx as nx\n",
        "G = nx.DiGraph()\n",
        "V = {'Dublin', 'Paris', 'Milan', 'Rome'}\n",
        "E = [('Milan', 'Dublin'), ('Paris', 'Milan'), ('Paris', 'Dublin'), ('Milan', 'Rome')]\n",
        "G.add_nodes_from(V)\n",
        "G.add_edges_from(E)\n",
        "\n",
        "# This shows the neighboring edges!\n",
        "print(nx.to_pandas_edgelist(G))\n",
        "print(nx.to_pandas_adjacency(G))\n"
      ],
      "metadata": {
        "colab": {
          "base_uri": "https://localhost:8080/"
        },
        "id": "kofVbIaUBhOu",
        "outputId": "d483b8bf-2057-4161-afe2-db0f7b286745"
      },
      "execution_count": 1,
      "outputs": [
        {
          "output_type": "stream",
          "name": "stdout",
          "text": [
            "  source  target\n",
            "0  Paris   Milan\n",
            "1  Paris  Dublin\n",
            "2  Milan  Dublin\n",
            "3  Milan    Rome\n",
            "        Dublin  Paris  Rome  Milan\n",
            "Dublin     0.0    0.0   0.0    0.0\n",
            "Paris      1.0    0.0   0.0    1.0\n",
            "Rome       0.0    0.0   0.0    0.0\n",
            "Milan      1.0    0.0   1.0    0.0\n"
          ]
        }
      ]
    },
    {
      "cell_type": "code",
      "source": [
        "\n",
        "print(f\"Indegree for nodes: { {v: G.in_degree(v) for v in G.nodes  } }\")\n",
        "print(f\"Outdegree for the nodes: { {v: G.out_degree(v) for v in G.nodes } }\")\n"
      ],
      "metadata": {
        "colab": {
          "base_uri": "https://localhost:8080/"
        },
        "id": "SjMifR7qH_zb",
        "outputId": "8b99abf4-1d3c-4327-d09c-069779023e5a"
      },
      "execution_count": 2,
      "outputs": [
        {
          "output_type": "stream",
          "name": "stdout",
          "text": [
            "Indegree for nodes: {'Dublin': 2, 'Paris': 0, 'Rome': 1, 'Milan': 1}\n",
            "Outdegree for the nodes: {'Dublin': 0, 'Paris': 2, 'Rome': 0, 'Milan': 2}\n"
          ]
        }
      ]
    },
    {
      "cell_type": "code",
      "source": [
        "from matplotlib import pyplot as plt\n",
        "\n",
        "\n",
        "def draw_graph(G, pos_nodes, node_names ={}, node_size=50, plot_weight=False):\n",
        "    nx.draw(G, pos_nodes, with_labels=False, node_size=node_size, edge_color='yellow', arrowsize=30)\n",
        "\n",
        "    # pay attention to the pos_nodes argument!\n",
        "    pos_attrs = {}\n",
        "\n",
        "    # pay attention to the coords argument!    \n",
        "    for node, coords in pos_nodes.items():\n",
        "        pos_attrs[node] = (coords[0], coords[1] + 0.08)\n",
        "\n",
        "    nx.draw_networkx_labels(G, pos_attrs, font_family='serif', font_size=20)\n",
        "\n",
        "    if plot_weight:\n",
        "        pos_attrs = {}\n",
        "        for node, coords in pos_nodes.items():\n",
        "            pos_attrs[node] = (coords[0], coords[1] + 0.08)\n",
        "\n",
        "        nx.draw_networkx_labels(G, pos_attrs, font_family='serif', font_size=20) \n",
        "\n",
        "        #pay attention to this edge labels syntax\n",
        "        edge_labels = dict([((a,b), d[\"weight\"]) for a,b,d in G.edges(data=True)]) \n",
        "        nx.draw_networkx_edge_labels(G, pos_nodes, edge_labels= edge_labels)\n",
        "\n",
        "    plt.axis('off')\n",
        "    axis = plt.gca()\n",
        "    axis.set_xlim([1.2 * x for x in axis.get_xlim()])\n",
        "    axis.set_ylim([1.2*y for y in axis.get_ylim()])\n",
        "\n"
      ],
      "metadata": {
        "id": "SOR7V0YBIwnQ"
      },
      "execution_count": 6,
      "outputs": []
    },
    {
      "cell_type": "code",
      "source": [
        "draw_graph(G, pos_nodes = nx.shell_layout(G), node_size= 500)\n"
      ],
      "metadata": {
        "colab": {
          "base_uri": "https://localhost:8080/",
          "height": 319
        },
        "id": "05RnM11IIhXt",
        "outputId": "5ef9529b-19ed-4ebb-b391-baf168743904"
      },
      "execution_count": 7,
      "outputs": [
        {
          "output_type": "display_data",
          "data": {
            "text/plain": [
              "<Figure size 432x288 with 1 Axes>"
            ],
            "image/png": "[encoded data removed]"
          },
          "metadata": {}
        }
      ]
    },
    {
      "cell_type": "markdown",
      "source": [
        "# Creating Weighted Directed Graph"
      ],
      "metadata": {
        "id": "yxLgRiCpMOFX"
      }
    },
    {
      "cell_type": "code",
      "source": [
        "\n",
        "import networkx as nx\n",
        "Gg = nx.MultiDiGraph()\n",
        "V = {'Paris', 'Dublin', 'Milan', 'Rome'}\n",
        "E = [('Paris', 'Dublin', 11), ('Paris', 'Milan', 8), ('Milan', 'Rome', 5), ('Milan', 'Dublin', 19)]\n",
        "\n",
        "G.add_nodes_from(V)\n",
        "G.add_weighted_edges_from(E)\n",
        "draw_graph(G, pos_nodes=nx.shell_layout(G), node_size=500, plot_weight=True)\n",
        "print(nx.to_pandas_edgelist(G))\n",
        "print(nx.to_pandas_adjacency(G))\n",
        "\n",
        "# This is a beauty!"
      ],
      "metadata": {
        "colab": {
          "base_uri": "https://localhost:8080/",
          "height": 501
        },
        "id": "1tX_pLCsMEoB",
        "outputId": "cf57dfdf-3efa-4957-b9a7-51d5b64d0d8e"
      },
      "execution_count": 8,
      "outputs": [
        {
          "output_type": "stream",
          "name": "stdout",
          "text": [
            "  source  target  weight\n",
            "0  Paris   Milan       8\n",
            "1  Paris  Dublin      11\n",
            "2  Milan  Dublin      19\n",
            "3  Milan    Rome       5\n",
            "        Dublin  Paris  Rome  Milan\n",
            "Dublin     0.0    0.0   0.0    0.0\n",
            "Paris     11.0    0.0   0.0    8.0\n",
            "Rome       0.0    0.0   0.0    0.0\n",
            "Milan     19.0    0.0   5.0    0.0\n"
          ]
        },
        {
          "output_type": "display_data",
          "data": {
            "text/plain": [
              "<Figure size 432x288 with 1 Axes>"
            ],
            "image/png": "[encoded data removed]"
          },
          "metadata": {}
        }
      ]
    },
    {
      "cell_type": "markdown",
      "source": [
        "# Bipartitie Graph"
      ],
      "metadata": {
        "id": "gmAHnpZfNamD"
      }
    },
    {
      "cell_type": "code",
      "source": [
        "\n",
        "import numpy as np\n",
        "import pandas as pd\n",
        "\n",
        "n_nodes = 10\n",
        "n_edges = 12\n",
        "\n",
        "# Pay attention to the one line if!\n",
        "# This is for even\n",
        "\n",
        "bottom_nodes = [ith for ith in range(n_nodes) if ith % 2 == 0]\n",
        "\n",
        "# this is for odds\n",
        "top_nodes = [ith for ith in range(n_nodes) if ith % 2 == 1]\n",
        "\n",
        "# we need this down below to draw dataframe! united iteration for the dataframe creation\n",
        "\n",
        "iter_edges = zip(np.random.choice(bottom_nodes, n_edges), np.random.choice(top_nodes, n_edges))\n",
        "\n",
        "edges = pd.DataFrame([ {\"source\":a, \"target\":b} for a , b in iter_edges])\n",
        "B = nx.Graph()\n",
        "B.add_nodes_from(bottom_nodes, bipartite =0)\n",
        "B.add_nodes_from(top_nodes, bipartite=1)\n",
        "\n",
        "# Pay attentio to this syntax!\n",
        "# This should be tuple!\n",
        "# we iteratre with tupe through the dataFrame\n",
        "\n",
        "B.add_edges_from(tuple(x) for x in edges.values)\n",
        "\n"
      ],
      "metadata": {
        "id": "3e1I2CpYNZJL"
      },
      "execution_count": 13,
      "outputs": []
    },
    {
      "cell_type": "code",
      "source": [
        "\n",
        "import networkx as nx\n",
        "import matplotlib.pyplot as plt\n",
        "import random\n",
        "from networkx.algorithms import bipartite\n",
        "\n",
        "\n",
        "pos = nx.bipartite_layout(B, bottom_nodes)\n",
        "nx.draw_networkx(B, pos=pos)\n"
      ],
      "metadata": {
        "colab": {
          "base_uri": "https://localhost:8080/",
          "height": 248
        },
        "id": "Cd_G_f5pPTDL",
        "outputId": "1d8aeba1-5bff-41df-aed4-485141628485"
      },
      "execution_count": 15,
      "outputs": [
        {
          "output_type": "display_data",
          "data": {
            "text/plain": [
              "<Figure size 432x288 with 1 Axes>"
            ],
            "image/png": "[encoded data removed]"
          },
          "metadata": {}
        }
      ]
    },
    {
      "cell_type": "markdown",
      "source": [
        "# Creating Multi Graph"
      ],
      "metadata": {
        "id": "7Hwg3gWIQhXQ"
      }
    },
    {
      "cell_type": "code",
      "source": [
        "\n",
        "import networkx as nx \n",
        "directed_multi_graph = nx.MultiDiGraph()\n",
        "V = {'Dublin', 'Paris', 'Milan', 'Rome'}\n",
        "E = [('Milan', 'Dublin'), ('Milan', 'Dublin'), ('Paris', 'Milan'), ('Paris', 'Dublin'), ('Milan', 'Rome'), ('Milan', 'Rome')]\n",
        "directed_multi_graph.add_nodes_from(V)\n",
        "directed_multi_graph.add_edges_from(E)\n",
        "\n",
        "draw_graph(G, pos_nodes=nx.shell_layout(G), node_size=500)\n"
      ],
      "metadata": {
        "colab": {
          "base_uri": "https://localhost:8080/",
          "height": 319
        },
        "id": "rBdK06gZQgeP",
        "outputId": "cda439a6-fec0-4d5a-83ed-4dcd85c797dd"
      },
      "execution_count": 16,
      "outputs": [
        {
          "output_type": "display_data",
          "data": {
            "text/plain": [
              "<Figure size 432x288 with 1 Axes>"
            ],
            "image/png": "[encoded data removed]"
          },
          "metadata": {}
        }
      ]
    }
  ]
}